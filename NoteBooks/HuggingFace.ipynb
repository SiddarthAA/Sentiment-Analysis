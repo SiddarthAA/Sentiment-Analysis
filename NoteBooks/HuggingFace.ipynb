{
 "cells": [
  {
   "cell_type": "code",
   "execution_count": 8,
   "metadata": {},
   "outputs": [],
   "source": [
    "def get_text_prediction(text): \n",
    "\n",
    "    model_name = \"distilbert-base-uncased-finetuned-sst-2-english\"\n",
    "    sentiment_analyzer = pipeline(\"sentiment-analysis\", model=model_name, device=\"cuda:0\")\n",
    "\n",
    "    result = sentiment_analyzer(text)\n",
    "    return result[0]['label'], result[0]['score']"
   ]
  },
  {
   "cell_type": "code",
   "execution_count": 9,
   "metadata": {},
   "outputs": [],
   "source": [
    "label, score = get_text_prediction(\"I fucking hate my life\")"
   ]
  },
  {
   "cell_type": "code",
   "execution_count": 12,
   "metadata": {},
   "outputs": [
    {
     "data": {
      "text/plain": [
       "('NEGATIVE', 0.9990516304969788)"
      ]
     },
     "execution_count": 12,
     "metadata": {},
     "output_type": "execute_result"
    }
   ],
   "source": [
    "label,score"
   ]
  }
 ],
 "metadata": {
  "kernelspec": {
   "display_name": "Python 3",
   "language": "python",
   "name": "python3"
  },
  "language_info": {
   "codemirror_mode": {
    "name": "ipython",
    "version": 3
   },
   "file_extension": ".py",
   "mimetype": "text/x-python",
   "name": "python",
   "nbconvert_exporter": "python",
   "pygments_lexer": "ipython3",
   "version": "3.11.9"
  }
 },
 "nbformat": 4,
 "nbformat_minor": 2
}
