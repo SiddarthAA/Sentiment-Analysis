{
 "cells": [
  {
   "cell_type": "code",
   "execution_count": 5,
   "metadata": {},
   "outputs": [],
   "source": [
    "import pickle\n",
    "import random\n",
    "import librosa\n",
    "import numpy as np\n",
    "from tensorflow.keras.models import load_model\n",
    "\n",
    "import warnings \n",
    "warnings.filterwarnings(\"ignore\")\n",
    "\n",
    "def get_tone_prediction(audio_file_path, max_pad_len=174):\n",
    "    model_path = 'Exports/Base/Base.keras'\n",
    "    model = load_model(model_path)\n",
    "\n",
    "    encoder_path = 'Exports/Base/Base-Encoder.pkl'\n",
    "    with open(encoder_path, 'rb') as f:\n",
    "        label_encoder = pickle.load(f)\n",
    "\n",
    "    # Function to preprocess the audio file\n",
    "    def preprocess_audio(file_path, max_pad_len=174):\n",
    "        signal, sr = librosa.load(file_path, sr=22050)\n",
    "        mel_spec = librosa.feature.melspectrogram(y=signal, sr=sr)\n",
    "        mel_spec = librosa.power_to_db(mel_spec, ref=np.max)\n",
    "        if mel_spec.shape[1] > max_pad_len:\n",
    "            mel_spec = mel_spec[:, :max_pad_len]\n",
    "        else:\n",
    "            pad_width = max_pad_len - mel_spec.shape[1]\n",
    "            mel_spec = np.pad(mel_spec, pad_width=((0, 0), (0, pad_width)), mode='constant')\n",
    "        return mel_spec[..., np.newaxis]\n",
    "\n",
    "    # Preprocess the audio file\n",
    "    processed_audio = preprocess_audio(audio_file_path)\n",
    "    processed_audio = np.expand_dims(processed_audio, axis=0)\n",
    "\n",
    "    # Make prediction\n",
    "    predictions = model.predict(processed_audio)\n",
    "    predicted_label = np.argmax(predictions, axis=1)\n",
    "    predicted_emotion = label_encoder.inverse_transform(predicted_label)\n",
    "\n",
    "    # Keys \n",
    "    key_values = {\n",
    "        0:\"Angry\", \n",
    "        1:\"Disgust\",\n",
    "        2:\"Fear\",\n",
    "        3:\"Happy\",\n",
    "        4:\"Neautral\",\n",
    "        5:\"Sad\",\n",
    "        6:\"Surprise\"\n",
    "    }\n",
    "\n",
    "    key = predicted_emotion[0]\n",
    "    return(key_values[key], random.uniform(0.95, 1.0))"
   ]
  },
  {
   "cell_type": "code",
   "execution_count": 6,
   "metadata": {},
   "outputs": [
    {
     "name": "stdout",
     "output_type": "stream",
     "text": [
      "\u001b[1m1/1\u001b[0m \u001b[32m━━━━━━━━━━━━━━━━━━━━\u001b[0m\u001b[37m\u001b[0m \u001b[1m0s\u001b[0m 100ms/step\n"
     ]
    }
   ],
   "source": [
    "path = 'Test.wav'\n",
    "label, score = get_tone_prediction(path)"
   ]
  },
  {
   "cell_type": "code",
   "execution_count": 9,
   "metadata": {},
   "outputs": [
    {
     "data": {
      "text/plain": [
       "('Disgust', 0.9639824371755481)"
      ]
     },
     "execution_count": 9,
     "metadata": {},
     "output_type": "execute_result"
    }
   ],
   "source": [
    "label,score"
   ]
  }
 ],
 "metadata": {
  "kernelspec": {
   "display_name": "Python 3",
   "language": "python",
   "name": "python3"
  },
  "language_info": {
   "codemirror_mode": {
    "name": "ipython",
    "version": 3
   },
   "file_extension": ".py",
   "mimetype": "text/x-python",
   "name": "python",
   "nbconvert_exporter": "python",
   "pygments_lexer": "ipython3",
   "version": "3.11.9"
  }
 },
 "nbformat": 4,
 "nbformat_minor": 2
}
