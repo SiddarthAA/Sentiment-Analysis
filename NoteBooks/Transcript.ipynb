{
 "cells": [
  {
   "cell_type": "code",
   "execution_count": 2,
   "metadata": {},
   "outputs": [],
   "source": [
    "import torch\n",
    "from transformers import pipeline \n",
    "from transformers.utils import is_flash_attn_2_available\n",
    "\n",
    "import warnings\n",
    "warnings.filterwarnings('ignore')"
   ]
  },
  {
   "cell_type": "code",
   "execution_count": 7,
   "metadata": {},
   "outputs": [],
   "source": [
    "def get_transcript(path): \n",
    "    method = \"automatic-speech-recognition\"\n",
    "    model = 'openai/whisper-tiny.en'\n",
    "\n",
    "    pipe = pipeline(\n",
    "        method,\n",
    "        model, \n",
    "        torch_dtype=torch.float16, \n",
    "        device=\"cuda:0\", \n",
    "        model_kwargs={\"attn_implementation\": \"flash_attention_2\"} if is_flash_attn_2_available() else {\"attn_implementation\": \"sdpa\"}\n",
    "    )\n",
    "\n",
    "    output = pipe(\n",
    "        path, \n",
    "        chunk_length_s=10, \n",
    "        batch_size=32, \n",
    "        return_timestamps=False\n",
    "    )\n",
    "\n",
    "    return(output['text'])"
   ]
  }
 ],
 "metadata": {
  "kernelspec": {
   "display_name": "Python 3",
   "language": "python",
   "name": "python3"
  },
  "language_info": {
   "codemirror_mode": {
    "name": "ipython",
    "version": 3
   },
   "file_extension": ".py",
   "mimetype": "text/x-python",
   "name": "python",
   "nbconvert_exporter": "python",
   "pygments_lexer": "ipython3",
   "version": "3.11.9"
  }
 },
 "nbformat": 4,
 "nbformat_minor": 2
}
